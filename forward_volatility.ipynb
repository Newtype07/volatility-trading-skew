{
 "cells": [
  {
   "cell_type": "markdown",
   "metadata": {
    "id": "98YP6JpSiyQB"
   },
   "source": [
    "# Forward Volatility\n",
    "\n",
    "This notebook will create a forward volatility strategy on the Nifty call options to generate profit from any mispricing of options in the market. \n",
    "\n",
    "1. [What is Forward Volatility](#intro)\n",
    "2. [Time to Expiry](#expiry)\n",
    "3. [Implied Volatility (IV)](#volatility)\n",
    "4. [Forward Volatility](#fvolatility)\n",
    "5. [Trading Signal](#signal)\n",
    "6. [Calculate PnL](#PnL)"
   ]
  },
  {
   "cell_type": "markdown",
   "metadata": {},
   "source": [
    "<a id='intro'></a>\n",
    "## What is Forward Volatility?\n",
    "\n",
    "Forward volatility represents the market's expectation of volatility **between two future dates**, typically between the expiration dates of two different option contracts. While implied volatility (IV) for a single option tells us how volatile the market expects the underlying asset to be up to a certain expiry, **forward volatility isolates the expected volatility during the interval between two expiries**.\n",
    "\n",
    "Mathematically, forward volatility between $T_1$ and $T_2$ is given by:\n",
    "\n",
    "$$\n",
    "\\sigma_{\\text{fwd}}(T_1 \\to T_2) = \\sqrt{ \\frac{ \\sigma^2(T_2) \\cdot T_2 - \\sigma^2(T_1) \\cdot T_1 }{ T_2 - T_1 } }\n",
    "$$\n",
    "\n",
    "where:\n",
    "- $\\sigma(T_1)$ and $\\sigma(T_2)$ are the implied volatilities of the near and far-month options, respectively\n",
    "- $T_1$ and $T_2$ are the time to expiry in **years**"
   ]
  },
  {
   "cell_type": "code",
   "execution_count": null,
   "metadata": {
    "id": "3vhYZ0zPiyQC"
   },
   "outputs": [],
   "source": [
    "import mibian as m\n",
    "import pandas as pd\n",
    "import numpy as np\n",
    "import matplotlib.pyplot as plt\n",
    "import warnings \n",
    "\n",
    "%matplotlib inline\n",
    "plt.style.use('seaborn-v0_8-darkgrid')\n",
    "warnings.filterwarnings('ignore')"
   ]
  },
  {
   "cell_type": "markdown",
   "metadata": {
    "id": "dKr8NVA2iyQD"
   },
   "source": [
    "<a id='import'></a>\n",
    "## Import the Data\n",
    "\n",
    "We import the CSV file containing the Nifty call options data. You can download this data from the last unit of this course '**Python Codes and Data**'."
   ]
  },
  {
   "cell_type": "code",
   "execution_count": null,
   "metadata": {
    "id": "CzC0nyTJiyQE",
    "outputId": "affb32ff-7085-415c-ba62-7ea76d1c09f9"
   },
   "outputs": [
    {
     "data": {
      "text/html": [
       "<div>\n",
       "<style scoped>\n",
       "    .dataframe tbody tr th:only-of-type {\n",
       "        vertical-align: middle;\n",
       "    }\n",
       "\n",
       "    .dataframe tbody tr th {\n",
       "        vertical-align: top;\n",
       "    }\n",
       "\n",
       "    .dataframe thead th {\n",
       "        text-align: right;\n",
       "    }\n",
       "</style>\n",
       "<table border=\"1\" class=\"dataframe\">\n",
       "  <thead>\n",
       "    <tr style=\"text-align: right;\">\n",
       "      <th></th>\n",
       "      <th>symbol</th>\n",
       "      <th>fut_near_month_close</th>\n",
       "      <th>fut_far_month_close</th>\n",
       "      <th>strike_price</th>\n",
       "      <th>near_month_expiry</th>\n",
       "      <th>LTP_near_month</th>\n",
       "      <th>far_month_expiry</th>\n",
       "      <th>LTP_far_month</th>\n",
       "    </tr>\n",
       "    <tr>\n",
       "      <th>date</th>\n",
       "      <th></th>\n",
       "      <th></th>\n",
       "      <th></th>\n",
       "      <th></th>\n",
       "      <th></th>\n",
       "      <th></th>\n",
       "      <th></th>\n",
       "      <th></th>\n",
       "    </tr>\n",
       "  </thead>\n",
       "  <tbody>\n",
       "    <tr>\n",
       "      <th>2017-08-28</th>\n",
       "      <td>NIFTY</td>\n",
       "      <td>9950.80</td>\n",
       "      <td>9980.65</td>\n",
       "      <td>9800</td>\n",
       "      <td>2017-09-28</td>\n",
       "      <td>226.45</td>\n",
       "      <td>2017-10-26</td>\n",
       "      <td>293.6</td>\n",
       "    </tr>\n",
       "    <tr>\n",
       "      <th>2017-08-29</th>\n",
       "      <td>NIFTY</td>\n",
       "      <td>9829.40</td>\n",
       "      <td>9860.15</td>\n",
       "      <td>9800</td>\n",
       "      <td>2017-09-28</td>\n",
       "      <td>150.80</td>\n",
       "      <td>2017-10-26</td>\n",
       "      <td>219.7</td>\n",
       "    </tr>\n",
       "    <tr>\n",
       "      <th>2017-08-30</th>\n",
       "      <td>NIFTY</td>\n",
       "      <td>9912.45</td>\n",
       "      <td>9939.75</td>\n",
       "      <td>9800</td>\n",
       "      <td>2017-09-28</td>\n",
       "      <td>191.20</td>\n",
       "      <td>2017-10-26</td>\n",
       "      <td>259.7</td>\n",
       "    </tr>\n",
       "    <tr>\n",
       "      <th>2017-08-31</th>\n",
       "      <td>NIFTY</td>\n",
       "      <td>9937.20</td>\n",
       "      <td>9963.35</td>\n",
       "      <td>9800</td>\n",
       "      <td>2017-09-28</td>\n",
       "      <td>201.85</td>\n",
       "      <td>2017-10-26</td>\n",
       "      <td>266.2</td>\n",
       "    </tr>\n",
       "    <tr>\n",
       "      <th>2017-09-01</th>\n",
       "      <td>NIFTY</td>\n",
       "      <td>10007.30</td>\n",
       "      <td>10034.20</td>\n",
       "      <td>9800</td>\n",
       "      <td>2017-09-28</td>\n",
       "      <td>251.50</td>\n",
       "      <td>2017-10-26</td>\n",
       "      <td>312.3</td>\n",
       "    </tr>\n",
       "  </tbody>\n",
       "</table>\n",
       "</div>"
      ],
      "text/plain": [
       "           symbol  fut_near_month_close  fut_far_month_close  strike_price  \\\n",
       "date                                                                         \n",
       "2017-08-28  NIFTY               9950.80              9980.65          9800   \n",
       "2017-08-29  NIFTY               9829.40              9860.15          9800   \n",
       "2017-08-30  NIFTY               9912.45              9939.75          9800   \n",
       "2017-08-31  NIFTY               9937.20              9963.35          9800   \n",
       "2017-09-01  NIFTY              10007.30             10034.20          9800   \n",
       "\n",
       "           near_month_expiry  LTP_near_month far_month_expiry  LTP_far_month  \n",
       "date                                                                          \n",
       "2017-08-28        2017-09-28          226.45       2017-10-26          293.6  \n",
       "2017-08-29        2017-09-28          150.80       2017-10-26          219.7  \n",
       "2017-08-30        2017-09-28          191.20       2017-10-26          259.7  \n",
       "2017-08-31        2017-09-28          201.85       2017-10-26          266.2  \n",
       "2017-09-01        2017-09-28          251.50       2017-10-26          312.3  "
      ]
     },
     "execution_count": 5,
     "metadata": {},
     "output_type": "execute_result"
    }
   ],
   "source": [
    "nifty_data = pd.read_csv('data_modules/Nifty.csv', index_col='date')\n",
    "nifty_data.index = pd.to_datetime(nifty_data.index)\n",
    "nifty_data.near_month_expiry = pd.to_datetime(nifty_data.near_month_expiry)\n",
    "nifty_data.far_month_expiry = pd.to_datetime(nifty_data.far_month_expiry)\n",
    "\n",
    "nifty_data.head()"
   ]
  },
  {
   "cell_type": "markdown",
   "metadata": {
    "collapsed": true,
    "id": "uGnC3J5tiyQF",
    "jupyter": {
     "outputs_hidden": true
    }
   },
   "source": [
    "<a id='expiry'></a>\n",
    "## Time to Expiry\n",
    "\n",
    "Here, we calculate the time to expiry for near month and far month contracts and store it in the columns `near_month_days_to_expiry` and `far_month_days_to_expiry`, respectively. \n",
    "\n",
    "We are using the`dt.days` method to find the number of days between two given dates.\n"
   ]
  },
  {
   "cell_type": "code",
   "execution_count": 6,
   "metadata": {
    "id": "UwmEgy-liyQG",
    "outputId": "33f0f971-63f7-4596-a759-c5d3780d630c"
   },
   "outputs": [
    {
     "data": {
      "text/html": [
       "<div>\n",
       "<style scoped>\n",
       "    .dataframe tbody tr th:only-of-type {\n",
       "        vertical-align: middle;\n",
       "    }\n",
       "\n",
       "    .dataframe tbody tr th {\n",
       "        vertical-align: top;\n",
       "    }\n",
       "\n",
       "    .dataframe thead th {\n",
       "        text-align: right;\n",
       "    }\n",
       "</style>\n",
       "<table border=\"1\" class=\"dataframe\">\n",
       "  <thead>\n",
       "    <tr style=\"text-align: right;\">\n",
       "      <th></th>\n",
       "      <th>near_month_expiry</th>\n",
       "      <th>near_month_days_to_expiry</th>\n",
       "      <th>far_month_expiry</th>\n",
       "      <th>far_month_days_to_expiry</th>\n",
       "    </tr>\n",
       "    <tr>\n",
       "      <th>date</th>\n",
       "      <th></th>\n",
       "      <th></th>\n",
       "      <th></th>\n",
       "      <th></th>\n",
       "    </tr>\n",
       "  </thead>\n",
       "  <tbody>\n",
       "    <tr>\n",
       "      <th>2017-08-28</th>\n",
       "      <td>2017-09-28</td>\n",
       "      <td>31</td>\n",
       "      <td>2017-10-26</td>\n",
       "      <td>59</td>\n",
       "    </tr>\n",
       "    <tr>\n",
       "      <th>2017-08-29</th>\n",
       "      <td>2017-09-28</td>\n",
       "      <td>30</td>\n",
       "      <td>2017-10-26</td>\n",
       "      <td>58</td>\n",
       "    </tr>\n",
       "    <tr>\n",
       "      <th>2017-08-30</th>\n",
       "      <td>2017-09-28</td>\n",
       "      <td>29</td>\n",
       "      <td>2017-10-26</td>\n",
       "      <td>57</td>\n",
       "    </tr>\n",
       "    <tr>\n",
       "      <th>2017-08-31</th>\n",
       "      <td>2017-09-28</td>\n",
       "      <td>28</td>\n",
       "      <td>2017-10-26</td>\n",
       "      <td>56</td>\n",
       "    </tr>\n",
       "    <tr>\n",
       "      <th>2017-09-01</th>\n",
       "      <td>2017-09-28</td>\n",
       "      <td>27</td>\n",
       "      <td>2017-10-26</td>\n",
       "      <td>55</td>\n",
       "    </tr>\n",
       "  </tbody>\n",
       "</table>\n",
       "</div>"
      ],
      "text/plain": [
       "           near_month_expiry  near_month_days_to_expiry far_month_expiry  \\\n",
       "date                                                                       \n",
       "2017-08-28        2017-09-28                         31       2017-10-26   \n",
       "2017-08-29        2017-09-28                         30       2017-10-26   \n",
       "2017-08-30        2017-09-28                         29       2017-10-26   \n",
       "2017-08-31        2017-09-28                         28       2017-10-26   \n",
       "2017-09-01        2017-09-28                         27       2017-10-26   \n",
       "\n",
       "            far_month_days_to_expiry  \n",
       "date                                  \n",
       "2017-08-28                        59  \n",
       "2017-08-29                        58  \n",
       "2017-08-30                        57  \n",
       "2017-08-31                        56  \n",
       "2017-09-01                        55  "
      ]
     },
     "execution_count": 6,
     "metadata": {},
     "output_type": "execute_result"
    }
   ],
   "source": [
    "# To get the 'near_months_days_to_expiry', subtract 'date' from 'near_month_expiry'\n",
    "nifty_data['near_month_days_to_expiry'] = (\n",
    "    nifty_data.near_month_expiry - nifty_data.index).dt.days\n",
    "\n",
    "# To get the 'far_months_days_to_expiry', subtract 'date' from 'far_month_expiry'\n",
    "nifty_data['far_month_days_to_expiry'] = (\n",
    "    nifty_data.far_month_expiry - nifty_data.index).dt.days\n",
    "\n",
    "# To print only four required columns using 'head' function\n",
    "nifty_data.loc[:, ['near_month_expiry', 'near_month_days_to_expiry',\n",
    "                   'far_month_expiry', 'far_month_days_to_expiry']].head()"
   ]
  },
  {
   "cell_type": "markdown",
   "metadata": {
    "id": "C8gzw_8jiyQH"
   },
   "source": [
    "<a id='volatility'></a>\n",
    "## Implied Volatility (IV)\n",
    "\n",
    "Implied volatility is a prediction of movement in security's price by the market participants."
   ]
  },
  {
   "cell_type": "code",
   "execution_count": 7,
   "metadata": {
    "id": "xOQDpXAKiyQH"
   },
   "outputs": [],
   "source": [
    "# Defining IV near and far months nifty data\n",
    "nifty_data['IV_near_month'] = 0\n",
    "nifty_data['IV_far_month'] = 0\n",
    "\n",
    "for row in range(len(nifty_data)):\n",
    "    # Calculating implied volatility for near month\n",
    "    nifty_data.iloc[row, nifty_data.columns.get_loc('IV_near_month')] = m.BS([\n",
    "        nifty_data.iloc[row]['fut_near_month_close'],\n",
    "        nifty_data.iloc[row]['strike_price'],\n",
    "        0,\n",
    "        nifty_data.iloc[row]['near_month_days_to_expiry']\n",
    "    ],\n",
    "        callPrice=nifty_data.iloc[row]['LTP_near_month']\n",
    "    ).impliedVolatility\n",
    "\n",
    "    # Calculating implied volatility for far month\n",
    "    nifty_data.iloc[row, nifty_data.columns.get_loc('IV_far_month')] = m.BS([\n",
    "        nifty_data.iloc[row]['fut_far_month_close'],\n",
    "        nifty_data.iloc[row]['strike_price'],\n",
    "        0,\n",
    "        nifty_data.iloc[row]['far_month_days_to_expiry']\n",
    "    ],\n",
    "        callPrice=nifty_data.iloc[row]['LTP_far_month']\n",
    "    ).impliedVolatility"
   ]
  },
  {
   "cell_type": "markdown",
   "metadata": {
    "id": "ZLTkC5y9iyQI"
   },
   "source": [
    "<a id='fvolatility'></a>\n",
    "## Forward Volatility Calculation\n",
    "\n",
    "Forward volatility is the future value of an option's implied volatility. To calculate the Forward volatility, we use this formula:\n",
    "\n",
    "$$\n",
    "\\sigma_{\\text{fwd}}(T_1 \\to T_2) = \\sqrt{ \\frac{ \\sigma^2(T_2) \\cdot T_2 - \\sigma^2(T_1) \\cdot T_1 }{ T_2 - T_1 } }\n",
    "$$"
   ]
  },
  {
   "cell_type": "code",
   "execution_count": null,
   "metadata": {
    "id": "OljoDh6SiyQJ"
   },
   "outputs": [],
   "source": [
    "variance_near_month = nifty_data.IV_near_month**2 * (nifty_data.near_month_days_to_expiry/365)\n",
    "variance_far_month = nifty_data.IV_far_month**2 * (nifty_data.far_month_days_to_expiry/365)\n",
    "variance_diff = nifty_data.variance_far_month - nifty_data.variance_near_month\n",
    "forward_variance_days = (nifty_data.far_month_days_to_expiry - nifty_data.near_month_days_to_expiry) / 365\n",
    "\n",
    "nifty_data['forward_volatility'] = (nifty_data.variance_diff / nifty_data.forward_variance_days)**0.5\n",
    "nifty_data['forward_volatility']"
   ]
  },
  {
   "cell_type": "markdown",
   "metadata": {},
   "source": [
    "<a id='signal'></a>\n",
    "\n",
    "## 📉📈 Trading Signals Based on Forward Volatility\n",
    "\n",
    "\n",
    "### 🔻 Backwardation Signal\n",
    "\n",
    "**Signal:**  \n",
    "$$\n",
    "\\sigma_{\\text{fwd}}(T_1 \\rightarrow T_2) < \\sigma_{\\text{near}}(T_1)\n",
    "$$  \n",
    "(i.e., Forward Volatility < Near-Month Implied Volatility)\n",
    "\n",
    "**Interpretation:**  \n",
    "The market expects volatility to **decline** in the future.\n",
    "\n",
    "**Strategy:**\n",
    "- 📌 **Calendar Spread**:\n",
    "  - **Buy** longer-dated call option (far-month)\n",
    "  - **Sell** shorter-dated call option (near-month)\n",
    "- 📌 Alternatively: Long far-month options directly — they may be **underpriced** relative to expected future vol\n",
    "\n",
    "**Rationale:**  \n",
    "When forward volatility is **low**, the market may be **undervaluing future risk**. This favors positions that gain if longer-dated implied vol rises or re-aligns with spot expectations.\n",
    "\n",
    "### 🔺 Contango Signal\n",
    "\n",
    "**Signal:**  \n",
    "$$\n",
    "\\sigma_{\\text{fwd}}(T_1 \\rightarrow T_2) > \\sigma_{\\text{near}}(T_1)\n",
    "$$  \n",
    "(i.e., Forward Volatility > Near-Month Implied Volatility)\n",
    "\n",
    "**Interpretation:**  \n",
    "The market anticipates **higher** volatility in the near future.\n",
    "\n",
    "**Strategy:**\n",
    "- 📌 **Reverse Calendar Spread**:\n",
    "  - **Sell** longer-dated call option (e.g., 60 DTE)\n",
    "  - **Buy** shorter-dated call option (e.g., 30 DTE)\n",
    "- 📌 **Directional Volatility Play**:\n",
    "  - Go long on near-term volatility products (e.g., VIX call spreads or near-term options)\n",
    "\n",
    "**Rationale:**  \n",
    "If forward vol is **elevated**, it may reflect **overpricing of future risk**. This opens opportunities to short vol in the far term while remaining hedged or even long in the short term.\n",
    "\n",
    "---\n",
    "\n",
    "These signals form the foundation of volatility term structure arbitrage strategies and are especially relevant in markets with predictable volatility regimes or event-driven pricing (e.g. earnings, elections, policy meetings)."
   ]
  },
  {
   "cell_type": "code",
   "execution_count": 42,
   "metadata": {},
   "outputs": [
    {
     "data": {
      "text/html": [
       "<div>\n",
       "<style scoped>\n",
       "    .dataframe tbody tr th:only-of-type {\n",
       "        vertical-align: middle;\n",
       "    }\n",
       "\n",
       "    .dataframe tbody tr th {\n",
       "        vertical-align: top;\n",
       "    }\n",
       "\n",
       "    .dataframe thead th {\n",
       "        text-align: right;\n",
       "    }\n",
       "</style>\n",
       "<table border=\"1\" class=\"dataframe\">\n",
       "  <thead>\n",
       "    <tr style=\"text-align: right;\">\n",
       "      <th></th>\n",
       "      <th>forward_volatility</th>\n",
       "      <th>IV_near_month</th>\n",
       "      <th>signal</th>\n",
       "    </tr>\n",
       "    <tr>\n",
       "      <th>date</th>\n",
       "      <th></th>\n",
       "      <th></th>\n",
       "      <th></th>\n",
       "    </tr>\n",
       "  </thead>\n",
       "  <tbody>\n",
       "    <tr>\n",
       "      <th>2017-08-28</th>\n",
       "      <td>11.884269</td>\n",
       "      <td>12.033463</td>\n",
       "      <td>1</td>\n",
       "    </tr>\n",
       "    <tr>\n",
       "      <th>2017-08-29</th>\n",
       "      <td>11.982315</td>\n",
       "      <td>12.077332</td>\n",
       "      <td>1</td>\n",
       "    </tr>\n",
       "    <tr>\n",
       "      <th>2017-08-30</th>\n",
       "      <td>11.836732</td>\n",
       "      <td>11.474609</td>\n",
       "      <td>-1</td>\n",
       "    </tr>\n",
       "    <tr>\n",
       "      <th>2017-08-31</th>\n",
       "      <td>11.218733</td>\n",
       "      <td>11.104584</td>\n",
       "      <td>-1</td>\n",
       "    </tr>\n",
       "    <tr>\n",
       "      <th>2017-09-01</th>\n",
       "      <td>10.958989</td>\n",
       "      <td>11.215210</td>\n",
       "      <td>1</td>\n",
       "    </tr>\n",
       "  </tbody>\n",
       "</table>\n",
       "</div>"
      ],
      "text/plain": [
       "            forward_volatility  IV_near_month  signal\n",
       "date                                                 \n",
       "2017-08-28           11.884269      12.033463       1\n",
       "2017-08-29           11.982315      12.077332       1\n",
       "2017-08-30           11.836732      11.474609      -1\n",
       "2017-08-31           11.218733      11.104584      -1\n",
       "2017-09-01           10.958989      11.215210       1"
      ]
     },
     "execution_count": 42,
     "metadata": {},
     "output_type": "execute_result"
    }
   ],
   "source": [
    "# Assigning signal to be 1 or -1\n",
    "nifty_data['signal'] = np.where(\n",
    "    nifty_data.forward_volatility < nifty_data.IV_near_month, 1, -1)\n",
    "\n",
    "\n",
    "# To print only two required columns using 'head' function\n",
    "nifty_data.loc[:, ['forward_volatility', 'IV_near_month', 'signal']].head()"
   ]
  },
  {
   "cell_type": "markdown",
   "metadata": {
    "id": "dDcwNwN3iyQK"
   },
   "source": [
    "<a id='PnL'></a>\n",
    "## Calculate PnL\n",
    "We calulate PnL of our strategy in three steps:\n",
    "\n",
    "1. Calculate `far_month_pnl` by taking difference between two consecutive `LTP_far_month`.\n",
    "2. Calculate `near_month_pnl` by taking differnce between two consecutive `LTP_near_month`.\n",
    "3. Compute `pnl` of our strategy using previous day `signal` and difference between far and near month pnl.\n"
   ]
  },
  {
   "cell_type": "code",
   "execution_count": null,
   "metadata": {
    "id": "pqlP8VbgiyQK"
   },
   "outputs": [],
   "source": [
    "# Calcualting far_month_pnl\n",
    "nifty_data['far_month_pnl'] = nifty_data['LTP_far_month'] - \\\n",
    "    nifty_data['LTP_far_month'].shift(1)\n",
    "\n",
    "# Calcualting near_month_pnl\n",
    "nifty_data['near_month_pnl'] = nifty_data['LTP_near_month'] - \\\n",
    "    nifty_data['LTP_near_month'].shift(1)\n",
    "\n",
    "# Calculating pnl of the strategy\n",
    "nifty_data['pnl'] = nifty_data.signal.shift(\n",
    "    1) * (nifty_data.far_month_pnl - nifty_data.near_month_pnl)"
   ]
  },
  {
   "cell_type": "markdown",
   "metadata": {
    "id": "LbVtoJHKiyQU"
   },
   "source": [
    "###  **Visualisation of PnL**"
   ]
  },
  {
   "cell_type": "code",
   "execution_count": null,
   "metadata": {
    "id": "gx9mcXqYiyQV",
    "outputId": "bc222321-47d2-4a49-97ac-c6a5a2d614ea"
   },
   "outputs": [
    {
     "data": {
      "image/png": "[encoded data removed]",
      "text/plain": [
       "<Figure size 1000x700 with 1 Axes>"
      ]
     },
     "metadata": {},
     "output_type": "display_data"
    }
   ],
   "source": [
    "plt.figure(figsize=(10, 7))\n",
    "plt.plot(nifty_data['pnl'].cumsum())\n",
    "plt.title('Profit and Loss', fontsize=14)\n",
    "plt.xlabel('Date', fontsize=12)\n",
    "plt.ylabel('PnL [$]', fontsize=12)\n",
    "plt.show()"
   ]
  },
  {
   "cell_type": "markdown",
   "metadata": {
    "id": "-RKi-AagiyQV"
   },
   "source": [
    "From the above plot, it is clear that our strategy works well and generates a good amount of profit.\n",
    "\n",
    "## Conclusion\n",
    "In this notebook, we build a trading strategy using the concept of forward volatility and generated profit from any mispricing of options in the market.<br><br>\n"
   ]
  }
 ],
 "metadata": {
  "colab": {
   "collapsed_sections": [],
   "name": "Strategy Using Forward Volatility.ipynb",
   "provenance": []
  },
  "kernelspec": {
   "display_name": "volatility_trading",
   "language": "python",
   "name": "volatility_trading"
  },
  "language_info": {
   "codemirror_mode": {
    "name": "ipython",
    "version": 3
   },
   "file_extension": ".py",
   "mimetype": "text/x-python",
   "name": "python",
   "nbconvert_exporter": "python",
   "pygments_lexer": "ipython3",
   "version": "3.12.8"
  }
 },
 "nbformat": 4,
 "nbformat_minor": 4
}
