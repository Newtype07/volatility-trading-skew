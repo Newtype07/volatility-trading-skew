{
 "cells": [
  {
   "cell_type": "markdown",
   "id": "a6bdb83a",
   "metadata": {},
   "source": [
    "## Import the libraries"
   ]
  },
  {
   "cell_type": "code",
   "execution_count": null,
   "id": "7efb7c9b",
   "metadata": {},
   "outputs": [],
   "source": [
    "import numpy as np\n",
    "import pandas as pd\n",
    "import matplotlib.pyplot as plt\n",
    "import mibian"
   ]
  },
  {
   "cell_type": "markdown",
   "id": "deb7bbdc",
   "metadata": {},
   "source": [
    "# Calendar Spread Payoff\n",
    "\n",
    "A calendar spread strategy profits from the time decay and/or increase in the implied volatility of the options. In this notebook, we will create a payoff graph of the calendar spread at the expiry of the front-month option. In the caldendar speard we make money both from theta and vega. We have vegae exposure sinc ethe vega for buying LT call is higher tahn the vega for ST call. If the ST call expires worthless implied vol does not increase large) and that at teh same time the IV for the LT option increase we make a profit. SO the maximum payoff is obtaiend when teh ST decays completely, expiring at the money, thus retaining all time value of the LT long call."
   ]
  },
  {
   "cell_type": "markdown",
   "id": "e5525617",
   "metadata": {},
   "source": [
    "## Setup\n",
    "Calendar spread involves options of the same underlying asset, the same strike price but with different expiration dates. \n",
    "\n",
    "- Sell a call (or put) with near-term expiration — <font color=blue>“front-month”</font>\n",
    "- Buy a call (or put) with long-term expiration — <font color=blue>“back-month”</font>"
   ]
  },
  {
   "cell_type": "markdown",
   "id": "98c36c2e",
   "metadata": {},
   "source": [
    "## Calendar spread on Nifty\n",
    "We will set up the calendar spread on Nifty as shown below.\n",
    "\n",
    "- Sell 10400 strike call @ INR 50.50 expiring on 28 November 2017 — <font color=blue>“front-month”</font>\n",
    "- Buy 10400 strike call @ INR 148.50 expiring on 30 December 2017 — <font color=blue>“back-month”</font>"
   ]
  },
  {
   "cell_type": "code",
   "execution_count": null,
   "id": "5adc2091",
   "metadata": {},
   "outputs": [],
   "source": [
    "# Nifty futures price \n",
    "nifty_nov_fut = 10350.00\n",
    "nifty_dec_fut = 10387.00\n",
    "\n",
    "strike_price = 10400\n",
    "nov_call_price = 50.50\n",
    "dec_call_price = 148.50\n",
    "setup_cost = dec_call_price - nov_call_price\n",
    "\n",
    "# Today's date is 21 November 2017. Therefore, days to November expiry is 7 days and days to December expiry is 34 days.\n",
    "days_to_expiry_nov_call = 7\n",
    "days_to_expiry_dec_call = 34\n",
    "\n",
    "# Range of values for Nifty\n",
    "sT = np.arange(0.92*nifty_nov_fut,1.1*nifty_nov_fut, 1) \n",
    "\n",
    "# Interest rate for input to Black-Scholes model\n",
    "interest_rate = 0.0"
   ]
  },
  {
   "cell_type": "markdown",
   "id": "f088f06f",
   "metadata": {},
   "source": [
    "## Implied volatility\n",
    "\n",
    "We will calculate the implied volatilities for the front-month and back-month call option using Black-Scholes model. This implied volatility will be later used as input to Black-Scholes model to calculate the call price for diiferent values of Nifty."
   ]
  },
  {
   "cell_type": "code",
   "execution_count": 8,
   "id": "004a983c",
   "metadata": {},
   "outputs": [
    {
     "name": "stdout",
     "output_type": "stream",
     "text": [
      "Front Month IV 12.70 %\n",
      "Back Month IV 12.25 %\n"
     ]
    }
   ],
   "source": [
    "# Front-month IV\n",
    "nov_call_iv = mibian.BS([nifty_nov_fut, strike_price, interest_rate, days_to_expiry_nov_call], \n",
    "                        callPrice=nov_call_price).impliedVolatility\n",
    "print(\"Front Month IV %.2f\" % nov_call_iv,\"%\")\n",
    "\n",
    "# Back-month IV\n",
    "dec_call_iv = mibian.BS([nifty_dec_fut, strike_price, interest_rate, days_to_expiry_dec_call], \n",
    "                        callPrice=dec_call_price).impliedVolatility\n",
    "print(\"Back Month IV %.2f\" % dec_call_iv,\"%\")"
   ]
  },
  {
   "cell_type": "markdown",
   "id": "67d3e0f8",
   "metadata": {},
   "source": [
    "## Calculating the call price for front and back month option\n",
    "Since there are two expiration dates for the options in the calendar spread, Black-Scholes pricing model is used to guesstimate the price of the front-month and back-month 10400 strike call at the front-month call expiry. You may change the days to expiry below to see how payoff changes.\n",
    "\n",
    "Note: We have assumed that all other things such as implied volatility and interest rates remain constant."
   ]
  },
  {
   "cell_type": "code",
   "execution_count": null,
   "id": "32cda475",
   "metadata": {},
   "outputs": [
    {
     "data": {
      "text/html": [
       "<div>\n",
       "<style scoped>\n",
       "    .dataframe tbody tr th:only-of-type {\n",
       "        vertical-align: middle;\n",
       "    }\n",
       "\n",
       "    .dataframe tbody tr th {\n",
       "        vertical-align: top;\n",
       "    }\n",
       "\n",
       "    .dataframe thead th {\n",
       "        text-align: right;\n",
       "    }\n",
       "</style>\n",
       "<table border=\"1\" class=\"dataframe\">\n",
       "  <thead>\n",
       "    <tr style=\"text-align: right;\">\n",
       "      <th></th>\n",
       "      <th>nifty_price</th>\n",
       "      <th>nov_call_price</th>\n",
       "      <th>dec_call_price</th>\n",
       "    </tr>\n",
       "  </thead>\n",
       "  <tbody>\n",
       "    <tr>\n",
       "      <th>0</th>\n",
       "      <td>9522.0</td>\n",
       "      <td>0.0</td>\n",
       "      <td>0.806387</td>\n",
       "    </tr>\n",
       "    <tr>\n",
       "      <th>1</th>\n",
       "      <td>9523.0</td>\n",
       "      <td>0.0</td>\n",
       "      <td>0.813929</td>\n",
       "    </tr>\n",
       "    <tr>\n",
       "      <th>2</th>\n",
       "      <td>9524.0</td>\n",
       "      <td>0.0</td>\n",
       "      <td>0.821534</td>\n",
       "    </tr>\n",
       "    <tr>\n",
       "      <th>3</th>\n",
       "      <td>9525.0</td>\n",
       "      <td>0.0</td>\n",
       "      <td>0.829203</td>\n",
       "    </tr>\n",
       "    <tr>\n",
       "      <th>4</th>\n",
       "      <td>9526.0</td>\n",
       "      <td>0.0</td>\n",
       "      <td>0.836937</td>\n",
       "    </tr>\n",
       "  </tbody>\n",
       "</table>\n",
       "</div>"
      ],
      "text/plain": [
       "   nifty_price  nov_call_price  dec_call_price\n",
       "0       9522.0             0.0        0.806387\n",
       "1       9523.0             0.0        0.813929\n",
       "2       9524.0             0.0        0.821534\n",
       "3       9525.0             0.0        0.829203\n",
       "4       9526.0             0.0        0.836937"
      ]
     },
     "execution_count": 20,
     "metadata": {},
     "output_type": "execute_result"
    }
   ],
   "source": [
    "# Changing days to expiry to a day before the front-month expiry\n",
    "days_to_expiry_nov_call = 0.001\n",
    "days_to_expiry_dec_call = 29 - days_to_expiry_nov_call\n",
    "\n",
    "df = pd.DataFrame()\n",
    "df['nifty_price'] = sT\n",
    "df['nov_call_price'] = np.nan\n",
    "df['dec_call_price'] = np.nan\n",
    "\n",
    "for i in range(0, len(df)):\n",
    "    df.at[i,'nov_call_price'] = mibian.BS([df.at[i, 'nifty_price'], strike_price, interest_rate, days_to_expiry_nov_call], \n",
    "                                           volatility=nov_call_iv).callPrice\n",
    "    \n",
    "    # Since interest rate is considered 0%, 35 is added to the nifty price to get the Nifty December futures price. \n",
    "    df.at[i,'dec_call_price'] = mibian.BS([df.at[i, 'nifty_price']+35, strike_price, interest_rate, days_to_expiry_dec_call], \n",
    "                                           volatility=dec_call_iv).callPrice\n",
    "df.head()"
   ]
  },
  {
   "cell_type": "markdown",
   "id": "7ce19f94",
   "metadata": {},
   "source": [
    "## Payoff"
   ]
  },
  {
   "cell_type": "code",
   "execution_count": 22,
   "id": "c37f1730",
   "metadata": {},
   "outputs": [
    {
     "data": {
      "image/png": "[encoded data removed]",
      "text/plain": [
       "<Figure size 1000x500 with 1 Axes>"
      ]
     },
     "metadata": {},
     "output_type": "display_data"
    }
   ],
   "source": [
    "df['payoff'] = df.dec_call_price - df.nov_call_price - setup_cost\n",
    "plt.figure(figsize=(10,5))\n",
    "plt.ylabel(\"payoff\")\n",
    "plt.xlabel(\"Nifty Price\")\n",
    "plt.plot(sT,df.payoff)\n",
    "plt.show()"
   ]
  },
  {
   "cell_type": "markdown",
   "id": "2eee1464",
   "metadata": {},
   "source": [
    "The key takeaways from the graphs are - \n",
    "\n",
    "1. The maximum profit is realized when the nifty price on expiry of front-month is at a strike price of INR 10400 \n",
    "2. The profit decreases as we move away from the strike price of INR 10400 in either direction. \n",
    "3. The maximum loss is realized as the option moves deep ITM or deep OTM."
   ]
  },
  {
   "cell_type": "markdown",
   "id": "1a82a909",
   "metadata": {},
   "source": [
    "## **Box Spread Arbitrage**"
   ]
  },
  {
   "cell_type": "code",
   "execution_count": 1,
   "id": "6b5c8b86",
   "metadata": {},
   "outputs": [
    {
     "data": {
      "text/html": [
       "<div>\n",
       "<style scoped>\n",
       "    .dataframe tbody tr th:only-of-type {\n",
       "        vertical-align: middle;\n",
       "    }\n",
       "\n",
       "    .dataframe tbody tr th {\n",
       "        vertical-align: top;\n",
       "    }\n",
       "\n",
       "    .dataframe thead th {\n",
       "        text-align: right;\n",
       "    }\n",
       "</style>\n",
       "<table border=\"1\" class=\"dataframe\">\n",
       "  <thead>\n",
       "    <tr style=\"text-align: right;\">\n",
       "      <th></th>\n",
       "      <th>bid_call</th>\n",
       "      <th>ask_call</th>\n",
       "      <th>strike</th>\n",
       "      <th>bid_put</th>\n",
       "      <th>ask_put</th>\n",
       "    </tr>\n",
       "  </thead>\n",
       "  <tbody>\n",
       "    <tr>\n",
       "      <th>475189</th>\n",
       "      <td>1050.81</td>\n",
       "      <td>1059.79</td>\n",
       "      <td>100.0</td>\n",
       "      <td>0.05</td>\n",
       "      <td>2.85</td>\n",
       "    </tr>\n",
       "    <tr>\n",
       "      <th>475190</th>\n",
       "      <td>955.51</td>\n",
       "      <td>965.20</td>\n",
       "      <td>200.0</td>\n",
       "      <td>0.84</td>\n",
       "      <td>5.40</td>\n",
       "    </tr>\n",
       "    <tr>\n",
       "      <th>475191</th>\n",
       "      <td>908.80</td>\n",
       "      <td>919.30</td>\n",
       "      <td>250.0</td>\n",
       "      <td>3.10</td>\n",
       "      <td>7.70</td>\n",
       "    </tr>\n",
       "    <tr>\n",
       "      <th>475192</th>\n",
       "      <td>862.40</td>\n",
       "      <td>873.71</td>\n",
       "      <td>300.0</td>\n",
       "      <td>6.00</td>\n",
       "      <td>10.60</td>\n",
       "    </tr>\n",
       "    <tr>\n",
       "      <th>475193</th>\n",
       "      <td>816.81</td>\n",
       "      <td>829.21</td>\n",
       "      <td>350.0</td>\n",
       "      <td>9.50</td>\n",
       "      <td>14.21</td>\n",
       "    </tr>\n",
       "    <tr>\n",
       "      <th>...</th>\n",
       "      <td>...</td>\n",
       "      <td>...</td>\n",
       "      <td>...</td>\n",
       "      <td>...</td>\n",
       "      <td>...</td>\n",
       "    </tr>\n",
       "    <tr>\n",
       "      <th>481625</th>\n",
       "      <td>3.50</td>\n",
       "      <td>5.51</td>\n",
       "      <td>2100.0</td>\n",
       "      <td>878.49</td>\n",
       "      <td>890.51</td>\n",
       "    </tr>\n",
       "    <tr>\n",
       "      <th>481626</th>\n",
       "      <td>1.85</td>\n",
       "      <td>3.09</td>\n",
       "      <td>2200.0</td>\n",
       "      <td>974.20</td>\n",
       "      <td>986.20</td>\n",
       "    </tr>\n",
       "    <tr>\n",
       "      <th>481627</th>\n",
       "      <td>1.36</td>\n",
       "      <td>2.29</td>\n",
       "      <td>2250.0</td>\n",
       "      <td>1022.50</td>\n",
       "      <td>1034.50</td>\n",
       "    </tr>\n",
       "    <tr>\n",
       "      <th>481628</th>\n",
       "      <td>0.39</td>\n",
       "      <td>1.00</td>\n",
       "      <td>2500.0</td>\n",
       "      <td>1265.70</td>\n",
       "      <td>1277.70</td>\n",
       "    </tr>\n",
       "    <tr>\n",
       "      <th>481629</th>\n",
       "      <td>0.10</td>\n",
       "      <td>0.45</td>\n",
       "      <td>3000.0</td>\n",
       "      <td>1753.31</td>\n",
       "      <td>1765.29</td>\n",
       "    </tr>\n",
       "  </tbody>\n",
       "</table>\n",
       "<p>402 rows × 5 columns</p>\n",
       "</div>"
      ],
      "text/plain": [
       "        bid_call  ask_call  strike  bid_put  ask_put\n",
       "475189   1050.81   1059.79   100.0     0.05     2.85\n",
       "475190    955.51    965.20   200.0     0.84     5.40\n",
       "475191    908.80    919.30   250.0     3.10     7.70\n",
       "475192    862.40    873.71   300.0     6.00    10.60\n",
       "475193    816.81    829.21   350.0     9.50    14.21\n",
       "...          ...       ...     ...      ...      ...\n",
       "481625      3.50      5.51  2100.0   878.49   890.51\n",
       "481626      1.85      3.09  2200.0   974.20   986.20\n",
       "481627      1.36      2.29  2250.0  1022.50  1034.50\n",
       "481628      0.39      1.00  2500.0  1265.70  1277.70\n",
       "481629      0.10      0.45  3000.0  1753.31  1765.29\n",
       "\n",
       "[402 rows x 5 columns]"
      ]
     },
     "execution_count": 1,
     "metadata": {},
     "output_type": "execute_result"
    }
   ],
   "source": [
    "import yfinance as yf\n",
    "import pandas as pd\n",
    "from utility import extract_option_chain\n",
    "\n",
    "path = \"spx_options_raw_data/\"\n",
    "\n",
    "expiration = \"2014-12-18\"\n",
    "\n",
    "# Fetch options chain\n",
    "option_chain = extract_option_chain(path, expiration)\n",
    "option_chain"
   ]
  },
  {
   "cell_type": "code",
   "execution_count": 3,
   "id": "c6133963",
   "metadata": {},
   "outputs": [
    {
     "name": "stdout",
     "output_type": "stream",
     "text": [
      "         K1     K2  Box Cost  Payoff  Profit  Implied Return (%)\n",
      "515   200.0  250.0     38.26    50.0   11.74               30.68\n",
      "458   200.0  250.0     38.65    50.0   11.35               29.37\n",
      "872   250.0  300.0     38.90    50.0   11.10               28.53\n",
      "815   250.0  300.0     39.40    50.0   10.60               26.90\n",
      "1220  300.0  350.0     39.41    50.0   10.59               26.87\n",
      "1163  300.0  350.0     40.02    50.0    9.98               24.94\n",
      "1563  350.0  400.0     40.51    50.0    9.49               23.43\n",
      "1506  350.0  400.0     40.81    50.0    9.19               22.52\n",
      "623   200.0  250.0     41.28    50.0    8.72               21.12\n",
      "1896  400.0  450.0     41.99    50.0    8.01               19.08\n"
     ]
    }
   ],
   "source": [
    "# Try box spreads between each pair of strikes\n",
    "opportunities = []\n",
    "for i in range(len(option_chain)):\n",
    "    for j in range(i + 1, len(option_chain)):\n",
    "        k1 = option_chain.iloc[i]\n",
    "        k2 = option_chain.iloc[j]\n",
    "\n",
    "        bull_call_cost = k1['ask_call'] - k2['bid_call']\n",
    "        bear_put_cost = k2['ask_put'] - k1['bid_put']\n",
    "        box_cost = bull_call_cost + bear_put_cost\n",
    "        payoff = k2['strike'] - k1['strike']\n",
    "        profit = payoff - box_cost\n",
    "\n",
    "        if profit > 0:\n",
    "            opportunities.append({\n",
    "                'K1': k1['strike'],\n",
    "                'K2': k2['strike'],\n",
    "                'Box Cost': round(box_cost, 2),\n",
    "                'Payoff': payoff,\n",
    "                'Profit': round(profit, 2),\n",
    "                'Implied Return (%)': round((profit / box_cost) * 100, 2)\n",
    "            })\n",
    "\n",
    "# Show top 10 arbitrage opportunities\n",
    "df = pd.DataFrame(opportunities).sort_values(by='Implied Return (%)', ascending=False)\n",
    "print(df.head(10))"
   ]
  }
 ],
 "metadata": {
  "kernelspec": {
   "display_name": "volatility_trading",
   "language": "python",
   "name": "volatility_trading"
  },
  "language_info": {
   "codemirror_mode": {
    "name": "ipython",
    "version": 3
   },
   "file_extension": ".py",
   "mimetype": "text/x-python",
   "name": "python",
   "nbconvert_exporter": "python",
   "pygments_lexer": "ipython3",
   "version": "3.12.8"
  }
 },
 "nbformat": 4,
 "nbformat_minor": 5
}
