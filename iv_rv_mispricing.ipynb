{
 "cells": [
  {
   "cell_type": "markdown",
   "id": "20216000",
   "metadata": {},
   "source": [
    "# **IV–RV Mispricing**\n",
    "\n",
    "The IV–RV spread refers to the gap between **implied volatility (IV)**, which reflects the market’s expectation of future variance, and **realized volatility (RV)**, which measures the actual variance observed in past returns. On average, IV tends to exceed RV because option sellers demand compensation for bearing tail risk and for taking the other side of persistent hedging flows. This difference is known as the **Variance Risk Premium (VRP)**.  \n",
    "\n",
    "## Why Trade the IV–RV Spread?\n",
    "\n",
    "While the VRP exists structurally, it is **time-varying** and can deviate significantly from fair value.  \n",
    "- In calm markets, IV may remain elevated relative to RV, leading to overpriced options.  \n",
    "- After shocks or during regime shifts, IV may lag realized outcomes and even understate true risk.  \n",
    "\n",
    "By forecasting RV with historical and high-frequency data, traders can identify periods when the IV–RV spread is abnormally wide or inverted. Trading these dislocations through delta-hedged long or short volatility positions allows us to selectively capture the VRP while avoiding its most dangerous drawdowns.  \n",
    "\n",
    "As options traders, we are not merely collecting the variance risk premium passively, we are exploiting **mispricings in its dynamics**, aiming for superior risk-adjusted returns by timing when IV is too rich or too cheap relative to expected realized volatility.  \n",
    "\n",
    "\n",
    "The notebook is structured as follows:\n",
    "\n",
    "1. [Read daily SPX Options chain & intraday SPX Index](#read_data)  \n",
    "2. [Remove Illiquid Options](#plot_iv)\n",
    "2. [Plot Variance Risk Prenium](#plot_iv)\n",
    "3. [Forecast Realized Volatility]()\n",
    "4. [Generate Trading Signals](#eee)\n",
    "5. [Apply Trading Filters](#dded)\n",
    "6. [Realistic Backtest with walk forward & Risk management](#plot_iv)  \n",
    "7. [Conclusion](#plot_iv)  "
   ]
  }
 ],
 "metadata": {
  "language_info": {
   "name": "python"
  }
 },
 "nbformat": 4,
 "nbformat_minor": 5
}
