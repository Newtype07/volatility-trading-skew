{
 "cells": [
  {
   "cell_type": "code",
   "execution_count": 458,
   "id": "8fa508c4",
   "metadata": {},
   "outputs": [
    {
     "name": "stdout",
     "output_type": "stream",
     "text": [
      "The autoreload extension is already loaded. To reload it, use:\n",
      "  %reload_ext autoreload\n"
     ]
    }
   ],
   "source": [
    "%load_ext autoreload\n",
    "%autoreload 2\n",
    "\n",
    "import warnings\n",
    "from utility import *\n",
    "from config.paths import RAW_PATH, INTERMEDIATE_PATH\n",
    "from pandas.tseries.offsets import BMonthEnd\n",
    "\n",
    "warnings.filterwarnings(action=\"ignore\")"
   ]
  },
  {
   "cell_type": "code",
   "execution_count": null,
   "id": "f513a3b2",
   "metadata": {},
   "outputs": [
    {
     "name": "stdout",
     "output_type": "stream",
     "text": [
      "Processing year: 2023\n",
      "  ➤ Extracting spx_eod_2023q1-cfph7w.7z\n",
      "Reading data/tmp/spx_eod_202301.txt\n",
      "Reading data/tmp/spx_eod_202303.txt\n",
      "Reading data/tmp/spx_eod_202302.txt\n",
      "  ➤ Extracting spx_eod_2023q2-kdxt36.7z\n",
      "Reading data/tmp/spx_eod_202306.txt\n",
      "Reading data/tmp/spx_eod_202305.txt\n",
      "Reading data/tmp/spx_eod_202304.txt\n",
      "  ➤ Extracting spx_eod_2023q3-w9b0jk.7z\n",
      "Reading data/tmp/spx_eod_202309.txt\n",
      "Reading data/tmp/spx_eod_202308.txt\n",
      "Reading data/tmp/spx_eod_202307.txt\n",
      "  ➤ Extracting spx_eod_2023q4-ai4uc9.7z\n",
      "Reading data/tmp/spx_eod_202312.txt\n",
      "Reading data/tmp/spx_eod_202311.txt\n",
      "Reading data/tmp/spx_eod_202310.txt\n"
     ]
    }
   ],
   "source": [
    "option_path = \"spx_options\"\n",
    "start_year = 2023\n",
    "end_year = 2023\n",
    "\n",
    "df = load_options(RAW_PATH / option_path, start_year=start_year, end_year=end_year)\n",
    "df = clean_data(df)\n",
    "df = extract_eom_options(df)\n",
    "df = reshape_options_long_to_wide(df)\n",
    "\n",
    "output_file = INTERMEDIATE_PATH / f\"{option_path}_{start_year}_{end_year}.parquet\"\n",
    "df.to_parquet(output_file, index=False)"
   ]
  },
  {
   "cell_type": "code",
   "execution_count": 466,
   "id": "e923df97",
   "metadata": {},
   "outputs": [],
   "source": [
    "output_file = INTERMEDIATE_PATH / f\"{option_path}_{start_year}_{end_year}.parquet\"\n",
    "df.to_parquet(output_file, index=True)"
   ]
  }
 ],
 "metadata": {
  "kernelspec": {
   "display_name": "volatility_trading",
   "language": "python",
   "name": "volatility_trading"
  },
  "language_info": {
   "codemirror_mode": {
    "name": "ipython",
    "version": 3
   },
   "file_extension": ".py",
   "mimetype": "text/x-python",
   "name": "python",
   "nbconvert_exporter": "python",
   "pygments_lexer": "ipython3",
   "version": "3.12.8"
  }
 },
 "nbformat": 4,
 "nbformat_minor": 5
}
