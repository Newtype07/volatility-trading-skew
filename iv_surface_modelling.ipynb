{
 "cells": [
  {
   "cell_type": "code",
   "execution_count": null,
   "metadata": {},
   "outputs": [],
   "source": [
    "import yfinance as yf\n",
    "import matplotlib.pyplot as plt\n",
    "import pandas as pd\n",
    "\n",
    "# ---- STEP 1: Define ticker and expiry ----\n",
    "ticker_symbol = \"AAPL\"   # you can change this\n",
    "ticker = yf.Ticker(ticker_symbol)\n",
    "\n",
    "# Get available expiration dates\n",
    "expirations = ticker.options\n",
    "print(\"Available Expirations:\")\n",
    "print(expirations)\n",
    "\n",
    "# Choose a specific expiration (e.g., 3rd one)\n",
    "expiry = expirations[2]\n",
    "print(f\"\\nUsing expiration: {expiry}\")\n",
    "\n",
    "# ---- STEP 2: Get options chain ----\n",
    "opt_chain = ticker.option_chain(expiry)\n",
    "calls = opt_chain.calls\n",
    "puts = opt_chain.puts\n",
    "\n",
    "# ---- STEP 3: Extract strikes and implied vols ----\n",
    "calls = calls[['strike', 'impliedVolatility']]\n",
    "puts = puts[['strike', 'impliedVolatility']]\n",
    "\n",
    "# Combine and clean\n",
    "calls['type'] = 'call'\n",
    "puts['type'] = 'put'\n",
    "df = pd.concat([calls, puts])\n",
    "df = df.dropna()\n",
    "\n",
    "# ---- STEP 4: Plot Volatility Skew ----\n",
    "plt.figure(figsize=(10, 6))\n",
    "for opt_type, color in [('call', 'blue'), ('put', 'red')]:\n",
    "    subset = df[df['type'] == opt_type]\n",
    "    plt.plot(subset['strike'], subset['impliedVolatility'], label=f\"{opt_type.capitalize()} IV\", marker='o')\n",
    "\n",
    "plt.title(f\"Volatility Skew for {ticker_symbol} on {expiry}\")\n",
    "plt.xlabel(\"Strike Price\")\n",
    "plt.ylabel(\"Implied Volatility\")\n",
    "plt.grid(True)\n",
    "plt.legend()\n",
    "plt.tight_layout()\n",
    "plt.show()"
   ]
  }
 ],
 "metadata": {
  "kernelspec": {
   "display_name": "volatility_trading",
   "language": "python",
   "name": "volatility_trading"
  },
  "language_info": {
   "name": "python",
   "version": "3.12.8"
  }
 },
 "nbformat": 4,
 "nbformat_minor": 2
}
